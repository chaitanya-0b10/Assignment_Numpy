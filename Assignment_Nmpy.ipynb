{
 "cells": [
  {
   "cell_type": "markdown",
   "id": "d4bce95f-3bee-4442-b5f2-f04f7c3a8b63",
   "metadata": {},
   "source": [
    "## Assignment Numpy"
   ]
  },
  {
   "cell_type": "markdown",
   "id": "67198c35-2a64-4676-9b70-12c3a0878504",
   "metadata": {},
   "source": [
    "### Theory"
   ]
  },
  {
   "cell_type": "markdown",
   "id": "9d6f1d7d-2a3e-4797-9024-b7ba09dfe6fa",
   "metadata": {},
   "source": [
    "1. Explain the purpose and advantages of NumPy in scientific computing and data analysis. How does it\n",
    "enhance Python's capabilities for numerical operations?"
   ]
  },
  {
   "cell_type": "code",
   "execution_count": 4,
   "id": "91e50066-33d6-46f3-b313-922ab0cb32bd",
   "metadata": {},
   "outputs": [
    {
     "data": {
      "text/plain": [
       "'\\nNumPy provides a wide range of mathematical functions, including linear algebra, statistical operations, and random number generation, which are not available in standard Python.\\nWith NumPy, can handle large datasets more efficiently, making it ideal for data analysis and machine learning applications.\\nNumPy arrays can be used as inputs and outputs for various other libraries, enhancing Python’s capabilities for numerical and scientific computing.\\n'"
      ]
     },
     "execution_count": 4,
     "metadata": {},
     "output_type": "execute_result"
    }
   ],
   "source": [
    "''' NumPy provides support for large, multi-dimensional arrays and matrices, \n",
    "along with a collection of mathematical functions to operate on these arrays efficiently.\n",
    "Many other scientific computing and data analysis libraries,\n",
    "such as Pandas, SciPy, and Scikit-learn,\n",
    "are built on top of NumPy. It serves as the backbone for these libraries'''\n",
    "\n",
    "'''Advantages:- \n",
    "NumPy is highly optimized for numerical operations. \n",
    "It uses pre-compiled C code, which makes array operations significantly faster than using Python lists.\n",
    "NumPy arrays consume less memory compared to Python lists. \n",
    "This is because NumPy arrays are stored in contiguous blocks of memory,\n",
    "which allows for efficient memory usage and faster access.\n",
    "NumPy allows for vectorized operations, which means can perform element-wise operations on arrays without the need for explicit loops. \n",
    "This leads to more readable and concise code.\n",
    "NumPy  integrates with other scientific computing libraries, making it easier to perform complex data analysis and machine learning tasks\n",
    "'''\n",
    "'''\n",
    "NumPy provides a wide range of mathematical functions, including linear algebra, statistical operations, and random number generation, which are not available in standard Python.\n",
    "With NumPy, can handle large datasets more efficiently, making it ideal for data analysis and machine learning applications.\n",
    "NumPy arrays can be used as inputs and outputs for various other libraries, enhancing Python’s capabilities for numerical and scientific computing.\n",
    "'''"
   ]
  },
  {
   "cell_type": "markdown",
   "id": "d7f7db91-f9cf-4bfe-b2c0-7eeb88a4739a",
   "metadata": {},
   "source": [
    "2. Compare and contrast np.mean() and np.average() functions in NumPy. When would you use one over the\n",
    "other?"
   ]
  },
  {
   "cell_type": "code",
   "execution_count": 6,
   "id": "90f8c608-d299-46d6-bb8e-d0603adb9872",
   "metadata": {},
   "outputs": [
    {
     "name": "stdout",
     "output_type": "stream",
     "text": [
      "Mean: 3.0\n",
      "Average: 3.0\n",
      "Weighted Average: 3.6666666666666665\n"
     ]
    },
    {
     "data": {
      "text/plain": [
       "' np.mean for simple avarage or statistics calculation mean.\\n    np.average()  When we need to calculate a weighted average.'"
      ]
     },
     "execution_count": 6,
     "metadata": {},
     "output_type": "execute_result"
    }
   ],
   "source": [
    "''' np.mean() \n",
    "Computes the arithmetic mean of the array elements.\n",
    "Not support Optional array of weights.\n",
    "it is straightforward and used when you only need the simple mean.\n",
    "'''\n",
    "\n",
    "''' np.average() \n",
    "supports weights, allowing to compute a weighted average.\n",
    "it is more versatile and can be used for weighted averages,\n",
    "providing additional control with the weights parameter.\n",
    "'''\n",
    "\n",
    "import numpy as np\n",
    "\n",
    "arr = np.array([1, 2, 3, 4, 5])\n",
    "\n",
    "mean_value = np.mean(arr)\n",
    "print(\"Mean:\", mean_value)  \n",
    "\n",
    "average_value = np.average(arr)\n",
    "print(\"Average:\", average_value) \n",
    "\n",
    "weights = np.array([1, 2, 3, 4, 5])\n",
    "weighted_average = np.average(arr, weights=weights)\n",
    "print(\"Weighted Average:\", weighted_average)  \n",
    "\n",
    "\"\"\" np.mean for simple avarage or statistics calculation mean.\n",
    "    np.average()  When we need to calculate a weighted average.\"\"\""
   ]
  },
  {
   "cell_type": "markdown",
   "id": "0fc5cbfe-7fbe-4bcb-a8b7-feb9b994a4a3",
   "metadata": {},
   "source": [
    "3. Describe the methods for reversing a NumPy array along different axes. Provide examples for 1D and 2D\r\n",
    "arrays."
   ]
  },
  {
   "cell_type": "code",
   "execution_count": 8,
   "id": "bd7a3f6d-cab0-4b1a-a5ec-42d9daac8790",
   "metadata": {},
   "outputs": [
    {
     "data": {
      "text/plain": [
       "'\\narray can be reverced:-\\nby slicing \\nby np.flip()\\nby np.flipud() and np.fliplr() for 2D arrays\\n'"
      ]
     },
     "execution_count": 8,
     "metadata": {},
     "output_type": "execute_result"
    }
   ],
   "source": [
    "\"\"\"\n",
    "array can be reverced:-\n",
    "by slicing \n",
    "by np.flip()\n",
    "by np.flipud() and np.fliplr() for 2D arrays\n",
    "\"\"\"\n"
   ]
  },
  {
   "cell_type": "code",
   "execution_count": 9,
   "id": "cda5e043-1b6e-467c-be16-6e1e035fb76e",
   "metadata": {},
   "outputs": [
    {
     "name": "stdout",
     "output_type": "stream",
     "text": [
      "Original array: [1 2 3 4 5]\n",
      "Reversed array by slicing : [5 4 3 2 1]\n",
      "Reversed array by flip(): [5 4 3 2 1]\n"
     ]
    }
   ],
   "source": [
    "''' 1D array'''\n",
    "import numpy as np\n",
    "\n",
    "arr = np.array([1, 2, 3, 4, 5])\n",
    "reversed_arr = arr[::-1]\n",
    "print(\"Original array:\", arr)  \n",
    "print(\"Reversed array by slicing :\", reversed_arr)  \n",
    "\n",
    "r_arr = np.flip(arr)  \n",
    "print(\"Reversed array by flip():\", r_arr) \n"
   ]
  },
  {
   "cell_type": "code",
   "execution_count": 10,
   "id": "92257260-1f8a-4141-92ab-1946b01b5a48",
   "metadata": {},
   "outputs": [
    {
     "name": "stdout",
     "output_type": "stream",
     "text": [
      "Original array:\n",
      " [[1 2 3]\n",
      " [4 5 6]\n",
      " [7 8 9]]\n",
      "Reversed rows array by slicing :\n",
      " [[7 8 9]\n",
      " [4 5 6]\n",
      " [1 2 3]]\n",
      "Reversed columns array by slicing :\n",
      " [[3 2 1]\n",
      " [6 5 4]\n",
      " [9 8 7]]\n",
      "Reversed along axis 0 array by flip():\n",
      " [[7 8 9]\n",
      " [4 5 6]\n",
      " [1 2 3]]\n",
      "Reversed along axis 1 array by flip():\n",
      " [[7 8 9]\n",
      " [4 5 6]\n",
      " [1 2 3]]\n",
      "Flipped up-down array:\n",
      " [[7 8 9]\n",
      " [4 5 6]\n",
      " [1 2 3]]\n",
      "Flipped left-right array:\n",
      " [[3 2 1]\n",
      " [6 5 4]\n",
      " [9 8 7]]\n"
     ]
    }
   ],
   "source": [
    "''' 2D array '''\n",
    "import numpy as np\n",
    "\n",
    "arr = np.array([[1, 2, 3], [4, 5, 6], [7, 8, 9]])\n",
    "reversed_rows = arr[::-1, :]\n",
    "print(\"Original array:\\n\", arr)\n",
    "print(\"Reversed rows array by slicing :\\n\", reversed_rows)\n",
    "reversed_columns = arr[:, ::-1]\n",
    "print(\"Reversed columns array by slicing :\\n\", reversed_columns)\n",
    "\n",
    "reversed_arrr = np.flip(arr, axis=0)\n",
    "print(\"Reversed along axis 0 array by flip():\\n\", reversed_arrr)\n",
    "reversed_arr = np.flip(arr, axis=1)\n",
    "print(\"Reversed along axis 1 array by flip():\\n\", reversed_arrr)\n",
    "\n",
    "reversed_arr = np.flipud(arr)\n",
    "print(\"Flipped up-down array:\\n\", reversed_arr)\n",
    "reversed_arr = np.fliplr(arr)\n",
    "print(\"Flipped left-right array:\\n\", reversed_arr)"
   ]
  },
  {
   "cell_type": "markdown",
   "id": "9e7c3a83-1faf-4268-b0a3-4c4d099fd45e",
   "metadata": {},
   "source": [
    "4. How can you determine the data type of elements in a NumPy array? Discuss the importance of data types\r\n",
    "in memory management and performance."
   ]
  },
  {
   "cell_type": "code",
   "execution_count": 12,
   "id": "ea159a0a-f773-4aa1-b0d6-587f87ec4b27",
   "metadata": {},
   "outputs": [
    {
     "name": "stdout",
     "output_type": "stream",
     "text": [
      "float32\n",
      "float64\n",
      "['1' '2' '3' '4'] <U1\n",
      "[1 2 3 4] int32\n"
     ]
    },
    {
     "data": {
      "text/plain": [
       "'Performance Optimization:-\\nOperations on smaller data types are generally faster because they require less memory bandwidth \\nand can be processed more quickly by the CPU.'"
      ]
     },
     "execution_count": 12,
     "metadata": {},
     "output_type": "execute_result"
    }
   ],
   "source": [
    "import numpy as np\n",
    "\n",
    "arr_A = np.array([1, 2, 3, 4, 5], dtype='float32')\n",
    "print(arr_A.dtype)\n",
    "\n",
    "arr_B = np.array([1, 2, 3, 4, 5], dtype='float64')\n",
    "print(arr_B.dtype)\n",
    "\n",
    "arr_C = np.array(['1','2','3','4'])\n",
    "print(arr_C, arr_C.dtype)\n",
    "\n",
    "arr_C = np.array(['1','2','3','4'], dtype='int32' )\n",
    "print(arr_C, arr_C.dtype)\n",
    "\n",
    "'''Memory Management:-\n",
    "Different data types require different amounts of memory.\n",
    "For example, an int32 type uses 4 bytes, while an int64 type uses 8 bytes. \n",
    "Choosing the appropriate data type can save memory.'''\n",
    "\n",
    "'''Performance Optimization:-\n",
    "Operations on smaller data types are generally faster because they require less memory bandwidth \n",
    "and can be processed more quickly by the CPU.'''"
   ]
  },
  {
   "cell_type": "markdown",
   "id": "4b059570-106d-42cb-9cba-5983be60115a",
   "metadata": {},
   "source": [
    "5. Define ndarrays in NumPy and explain their key features. How do they differ from standard Python lists?"
   ]
  },
  {
   "cell_type": "code",
   "execution_count": 14,
   "id": "0721b564-57fd-4c48-8f2f-0101f28cd7c7",
   "metadata": {},
   "outputs": [
    {
     "name": "stdout",
     "output_type": "stream",
     "text": [
      "ndarray:\n",
      " [[1 2 3]\n",
      " [4 5 6]]\n",
      "Data type: int32\n",
      "Shape: (2, 3)\n",
      "--------------------------------------------------------------\n",
      "list items: ['a', 'b', 1, 2, 3]\n",
      "Python List:\n",
      " [[1, 2, 3], [4, 5, 6]]\n"
     ]
    }
   ],
   "source": [
    "\"\"\"An ndarray (N-dimensional array) is a core data structure in NumPy, \n",
    "designed for efficient numerical computations. \n",
    "It is a multi-dimensional, homogeneous array of fixed-size items, \n",
    "meaning all elements in the array must be of the same data type\"\"\"\n",
    "\n",
    "\"\"\"key features:-\n",
    "Provides a wide range of mathematical functions and operations.\n",
    "Size is fixed upon creation.\n",
    "Optimized for numerical operations, supporting vectorized operations and broadcasting.\n",
    "Stored in contiguous memory blocks, leading to better memory efficiency.\n",
    "All elements must be of the same data type.\"\"\"\n",
    "\n",
    "\"\"\" differ:-\n",
    "List Can contain elements of different data types and multiple value(no fixed size). ndarry can't cantain\n",
    "List Stored as arrays of pointers to objects, which can be less memory-efficient.\n",
    "List Not optimized for numerical computations; operations often require explicit loops, but ndarray more efficient for it\n",
    "\"\"\"\n",
    "\"\"\"example\"\"\"\n",
    "import numpy as np\n",
    "#ndarray-------\n",
    "arr = np.array([[1, 2, 3], [4, 5, 6]])\n",
    "print(\"ndarray:\\n\", arr)\n",
    "print(\"Data type:\", arr.dtype)\n",
    "print(\"Shape:\", arr.shape)\n",
    "\n",
    "print(\"--------------------------------------------------------------\")\n",
    "#list------\n",
    "lis= ['a','b',1,2,3]\n",
    "print(\"list items:\", lis)\n",
    "list_2d = [[1, 2, 3], [4, 5, 6]]\n",
    "print(\"Python List:\\n\", list_2d)\n"
   ]
  },
  {
   "cell_type": "markdown",
   "id": "64cc2cd9-a1e7-4dcc-b348-c5880e2735a8",
   "metadata": {},
   "source": [
    "6. Analyze the performance benefits of NumPy arrays over Python lists for large-scale numerical operations."
   ]
  },
  {
   "cell_type": "code",
   "execution_count": 16,
   "id": "e936d1a3-1cbb-4565-bf95-3b120ac441e9",
   "metadata": {},
   "outputs": [
    {
     "name": "stdout",
     "output_type": "stream",
     "text": [
      "Time taken with Python list: 0.03735041618347168\n"
     ]
    }
   ],
   "source": [
    "\"\"\" list performance by using time module \"\"\"\n",
    "import time\n",
    "\n",
    "large_list = list(range(1000000))\n",
    "\n",
    "start_time = time.time()\n",
    "\n",
    "result_list = [x + 1 for x in large_list]\n",
    "\n",
    "end_time = time.time()\n",
    "\n",
    "print(\"Time taken with Python list:\", end_time - start_time)\n"
   ]
  },
  {
   "cell_type": "code",
   "execution_count": 17,
   "id": "8e341531-fcac-4303-92ab-a7cbb605fc1f",
   "metadata": {},
   "outputs": [
    {
     "name": "stdout",
     "output_type": "stream",
     "text": [
      "Time taken with NumPy array: 0.0011255741119384766\n"
     ]
    }
   ],
   "source": [
    "\"\"\" Numpy arrays performance by using time module  \"\"\"\n",
    "import numpy as np\n",
    "import time\n",
    "\n",
    "large_array = np.arange(1000000)\n",
    "\n",
    "start_time = time.time()\n",
    "result_array = large_array + 1\n",
    "end_time = time.time()\n",
    "\n",
    "print(\"Time taken with NumPy array:\", end_time - start_time)\n"
   ]
  },
  {
   "cell_type": "markdown",
   "id": "4decbb17-5735-485e-b686-ff28672a4af9",
   "metadata": {},
   "source": [
    "7. Compare vstack() and hstack() functions in NumPy. Provide examples demonstrating their usage and\r\n",
    "output."
   ]
  },
  {
   "cell_type": "code",
   "execution_count": 19,
   "id": "2ac7ccf8-6cc5-40e5-81d9-1e23c79222f5",
   "metadata": {},
   "outputs": [
    {
     "name": "stdout",
     "output_type": "stream",
     "text": [
      "vstack result:\n",
      " [[1 2]\n",
      " [3 4]\n",
      " [5 6]\n",
      " [7 8]]\n",
      "hstack result:\n",
      " [1 2 3 4 5 6]\n"
     ]
    }
   ],
   "source": [
    "''' vstack:- \n",
    "Stacks arrays vertically (row-wise).\n",
    "Arrays must have the same shape along all but the first axis.\n",
    "use -  when need to stack arrays vertically, adding rows. '''\n",
    "import numpy as np\n",
    "\n",
    "a = np.array([[1, 2], [3, 4]])\n",
    "b = np.array([[5, 6], [7, 8]])\n",
    "\n",
    "result = np.vstack((a, b))\n",
    "print(\"vstack result:\\n\", result)\n",
    "\n",
    "\n",
    "''' hstack:- \n",
    "Stacks arrays horizontally (column-wise).\n",
    "use - when need to stack arrays horizontally, adding columns.\n",
    "Arrays must have the same shape along all but the second axis.'''\n",
    "\n",
    "a = np.array([1, 2, 3])\n",
    "b = np.array([4, 5, 6])\n",
    "\n",
    "# Using hstack\n",
    "result = np.hstack((a, b))\n",
    "print(\"hstack result:\\n\", result)\n"
   ]
  },
  {
   "cell_type": "markdown",
   "id": "20bb715f-2b58-4aaa-9106-2dc4b1cd6ee1",
   "metadata": {},
   "source": [
    "8. Explain the differences between fliplr() and flipud() methods in NumPy, including their effects on various\n",
    "array dimensions."
   ]
  },
  {
   "cell_type": "code",
   "execution_count": 21,
   "id": "c7cde3a5-6ebc-4484-9bfd-7cf73700a8f3",
   "metadata": {},
   "outputs": [
    {
     "data": {
      "text/plain": [
       "'flipud():-\\nFlips the array up to down (vertically)\\nWorks with 1D and higher-dimensional arrays\\nFlips along the first axis (rows)\\n'"
      ]
     },
     "execution_count": 21,
     "metadata": {},
     "output_type": "execute_result"
    }
   ],
   "source": [
    "'''fliplr():-\n",
    "Requires at least a 2D array\n",
    "Flips the array left to right (horizontally)\n",
    "Flips along the second axis\n",
    "'''\n",
    "\n",
    "'''flipud():-\n",
    "Flips the array up to down (vertically)\n",
    "Works with 1D and higher-dimensional arrays\n",
    "Flips along the first axis (rows)\n",
    "'''"
   ]
  },
  {
   "cell_type": "code",
   "execution_count": 22,
   "id": "52a44055-11f7-4d21-8901-0b75ee0ceb8a",
   "metadata": {},
   "outputs": [
    {
     "name": "stdout",
     "output_type": "stream",
     "text": [
      "1D--------------\n",
      "Original array: [1 2 3]\n",
      "Flipped up-down array: [3 2 1]\n",
      "2D--------------\n",
      "Original array:\n",
      " [[1 2 3]\n",
      " [4 5 6]\n",
      " [7 8 9]]\n",
      "Flipped left-right array:\n",
      " [[3 2 1]\n",
      " [6 5 4]\n",
      " [9 8 7]]\n",
      "Flipped up-down array:\n",
      " [[7 8 9]\n",
      " [4 5 6]\n",
      " [1 2 3]]\n",
      "3D--------------\n",
      "Original array:\n",
      " [[[1 2]\n",
      "  [3 4]]\n",
      "\n",
      " [[5 6]\n",
      "  [7 8]]]\n",
      "Flipped left-right array:\n",
      " [[[3 4]\n",
      "  [1 2]]\n",
      "\n",
      " [[7 8]\n",
      "  [5 6]]]\n",
      "Flipped up-down array:\n",
      " [[[5 6]\n",
      "  [7 8]]\n",
      "\n",
      " [[1 2]\n",
      "  [3 4]]]\n"
     ]
    }
   ],
   "source": [
    "import numpy as np\n",
    "# 1D----------\n",
    "print(\"1D--------------\")\n",
    "arr = np.array([1, 2, 3])\n",
    "flipped_ud = np.flipud(arr)\n",
    "print(\"Original array:\", arr)\n",
    "print(\"Flipped up-down array:\", flipped_ud)\n",
    "\n",
    "#2d------------\n",
    "print(\"2D--------------\")\n",
    "arr = np.array([[1, 2, 3], [4, 5, 6], [7, 8, 9]])\n",
    "flipped_lr = np.fliplr(arr)\n",
    "print(\"Original array:\\n\", arr)\n",
    "print(\"Flipped left-right array:\\n\", flipped_lr)\n",
    "flipped_ud = np.flipud(arr)\n",
    "print(\"Flipped up-down array:\\n\", flipped_ud)\n",
    "\n",
    "#3D---------------\n",
    "print(\"3D--------------\")\n",
    "arr = np.array([[[1, 2], [3, 4]], [[5, 6], [7, 8]]])\n",
    "flipped_lr = np.fliplr(arr)\n",
    "flipped_ud = np.flipud(arr)\n",
    "print(\"Original array:\\n\", arr)\n",
    "print(\"Flipped left-right array:\\n\", flipped_lr)\n",
    "print(\"Flipped up-down array:\\n\", flipped_ud)\n"
   ]
  },
  {
   "cell_type": "markdown",
   "id": "be87d2bb-e98b-4606-9904-5cbfcb9ad093",
   "metadata": {},
   "source": [
    "9. Discuss the functionality of the array_split() method in NumPy. How does it handle uneven splits?"
   ]
  },
  {
   "cell_type": "code",
   "execution_count": 24,
   "id": "b0acf392-bb11-463c-9eda-90d07874bf47",
   "metadata": {},
   "outputs": [
    {
     "name": "stdout",
     "output_type": "stream",
     "text": [
      "[array([0, 1, 2]), array([3, 4]), array([5, 6]), array([7, 8])]\n"
     ]
    }
   ],
   "source": [
    "'''The array_split() method in NumPy is used to split an array into multiple sub-arrays.\n",
    "It is similar to the split() method but with added flexibility for handling uneven splits.\n",
    "Unlike split(), which requires the array to be divided into equal parts, array_split() allows for uneven splits.\n",
    "This is useful when the array cannot be evenly divided by the specified number of splits\n",
    "'''\n",
    "'''\n",
    "When the array length is not perfectly divisible by the number of splits,\n",
    "array_split() handles the uneven division by creating sub-arrays of different sizes:\n",
    "'''\n",
    "import numpy as np\n",
    "\n",
    "x = np.arange(9)\n",
    "result = np.array_split(x, 4)\n",
    "print(result)\n"
   ]
  },
  {
   "cell_type": "markdown",
   "id": "0b4bff1c-eb3a-47f4-b9e9-c9661149df2c",
   "metadata": {},
   "source": [
    "10. Explain the concepts of vectorization and broadcasting in NumPy. How do they contribute to efficient array\n",
    "operations?"
   ]
  },
  {
   "cell_type": "code",
   "execution_count": 26,
   "id": "fa458f8a-7cb2-4074-9299-3b6124c772a9",
   "metadata": {},
   "outputs": [
    {
     "name": "stdout",
     "output_type": "stream",
     "text": [
      "[ 6  8 10 12]\n"
     ]
    }
   ],
   "source": [
    "'''\n",
    "Vectorization refers to the process of performing operations on entire arrays rather than individual elements. \n",
    "This eliminates the need for explicit loops in Python, \n",
    "allowing operations to be executed in optimized C code, which is much faster\n",
    "Enhances performance and code simplicity by eliminating explicit loops.\n",
    "'''\n",
    "\n",
    "import numpy as np\n",
    "\n",
    "a = np.array([1, 2, 3, 4])\n",
    "b = np.array([5, 6, 7, 8])\n",
    "\n",
    "result_vectorized = a + b\n",
    "         \n",
    "print(result_vectorized)  \n",
    "\n"
   ]
  },
  {
   "cell_type": "code",
   "execution_count": 27,
   "id": "a9d9d28c-1b62-4c10-845a-55b4beee715c",
   "metadata": {},
   "outputs": [
    {
     "name": "stdout",
     "output_type": "stream",
     "text": [
      "[[11 22 33]\n",
      " [14 25 36]]\n"
     ]
    }
   ],
   "source": [
    "'''Broadcasting describes how NumPy handles arrays of different shapes during arithmetic operations.\n",
    "It allows smaller arrays to be automatically expanded to match the shape of larger arrays, \n",
    "enabling element-wise operations without the need for explicit looping'''\n",
    "\n",
    "import numpy as np\n",
    "\n",
    "matrix = np.array([[1, 2, 3],\n",
    "                   [4, 5, 6]])\n",
    "vector = np.array([10, 20, 30])\n",
    "\n",
    "result = matrix + vector\n",
    "\n",
    "print(result)\n"
   ]
  },
  {
   "cell_type": "code",
   "execution_count": 28,
   "id": "31549d34-fd61-4fda-9580-06a34ba172ec",
   "metadata": {},
   "outputs": [
    {
     "data": {
      "text/plain": [
       "'\\nVectorization improves performance and readability by leveraging efficient,\\nlow-level implementations for array operations.\\n\\nBroadcasting enables element-wise operations on arrays of different shapes \\nby expanding dimensions as needed, making code more flexible and memory-efficient.\\n'"
      ]
     },
     "execution_count": 28,
     "metadata": {},
     "output_type": "execute_result"
    }
   ],
   "source": [
    "\"\"\"\n",
    "Vectorization improves performance and readability by leveraging efficient,\n",
    "low-level implementations for array operations.\n",
    "\n",
    "Broadcasting enables element-wise operations on arrays of different shapes \n",
    "by expanding dimensions as needed, making code more flexible and memory-efficient.\n",
    "\"\"\""
   ]
  },
  {
   "cell_type": "code",
   "execution_count": null,
   "id": "941fb8ab-d3a3-4367-8fdb-fd1d3c90d289",
   "metadata": {},
   "outputs": [],
   "source": []
  },
  {
   "cell_type": "markdown",
   "id": "cccd5e3f-00c1-4fb0-8a10-dc03aa687bba",
   "metadata": {},
   "source": [
    "## Practical "
   ]
  },
  {
   "cell_type": "markdown",
   "id": "a34173d4-4331-453d-8754-0e4072760901",
   "metadata": {},
   "source": [
    "1. Create a 3x3 NumPy array with random integers between 1 and 100. Then, interchange its rows and columns."
   ]
  },
  {
   "cell_type": "code",
   "execution_count": 31,
   "id": "1c77c1a2-4902-4276-bb9d-2f8a0a375fea",
   "metadata": {},
   "outputs": [
    {
     "name": "stdout",
     "output_type": "stream",
     "text": [
      "Original array:\n",
      "[[77 46 59]\n",
      " [69 46 15]\n",
      " [50 45 77]]\n",
      "\n",
      "Transposed array:\n",
      "[[77 69 50]\n",
      " [46 46 45]\n",
      " [59 15 77]]\n"
     ]
    }
   ],
   "source": [
    "import numpy as np\n",
    "\n",
    "array = np.random.randint(1, 101, size=(3, 3))\n",
    "print(\"Original array:\")\n",
    "print(array)\n",
    "\n",
    "transposed_array = array.T\n",
    "print(\"\\nTransposed array:\")\n",
    "print(transposed_array)\n"
   ]
  },
  {
   "cell_type": "markdown",
   "id": "b5706dfa-f150-4606-82eb-67440eeeaf29",
   "metadata": {},
   "source": [
    "2. Generate a 1D NumPy array with 10 elements. Reshape it into a 2x5 array, then into a 5x2 array."
   ]
  },
  {
   "cell_type": "code",
   "execution_count": 33,
   "id": "262c36eb-c95c-4f47-852b-8f0bb83fed1b",
   "metadata": {},
   "outputs": [
    {
     "name": "stdout",
     "output_type": "stream",
     "text": [
      "Original 1D array:\n",
      "[0 1 2 3 4 5 6 7 8 9]\n",
      "\n",
      "Reshaped to 2x5 array:\n",
      "[[0 1 2 3 4]\n",
      " [5 6 7 8 9]]\n",
      "\n",
      "Reshaped to 5x2 array:\n",
      "[[0 1]\n",
      " [2 3]\n",
      " [4 5]\n",
      " [6 7]\n",
      " [8 9]]\n"
     ]
    }
   ],
   "source": [
    "array_1d = np.arange(10)\n",
    "print(\"Original 1D array:\")\n",
    "print(array_1d)\n",
    "\n",
    "array_2x5 = array_1d.reshape(2, 5)\n",
    "print(\"\\nReshaped to 2x5 array:\")\n",
    "print(array_2x5)\n",
    "\n",
    "array_5x2 = array_2x5.reshape(5, 2)\n",
    "print(\"\\nReshaped to 5x2 array:\")\n",
    "print(array_5x2)\n"
   ]
  },
  {
   "cell_type": "markdown",
   "id": "03896bfd-2660-4e6e-a025-02de2e10a6f3",
   "metadata": {},
   "source": [
    "3. Create a 4x4 NumPy array with random float values. Add a border of zeros around it, resulting in a 6x6 array."
   ]
  },
  {
   "cell_type": "code",
   "execution_count": 35,
   "id": "0b9a651f-ffe6-4be5-b337-293f59e3ef82",
   "metadata": {},
   "outputs": [
    {
     "name": "stdout",
     "output_type": "stream",
     "text": [
      "Original 4x4 array:\n",
      "[[0.34629128 0.85151664 0.85181985 0.28331981]\n",
      " [0.01877224 0.62279067 0.57430851 0.72492068]\n",
      " [0.25426326 0.8625452  0.34697895 0.54168828]\n",
      " [0.72112347 0.15302257 0.48203575 0.19679443]]\n",
      "\n",
      "6x6 array with border of zeros:\n",
      "[[0.         0.         0.         0.         0.         0.        ]\n",
      " [0.         0.34629128 0.85151664 0.85181985 0.28331981 0.        ]\n",
      " [0.         0.01877224 0.62279067 0.57430851 0.72492068 0.        ]\n",
      " [0.         0.25426326 0.8625452  0.34697895 0.54168828 0.        ]\n",
      " [0.         0.72112347 0.15302257 0.48203575 0.19679443 0.        ]\n",
      " [0.         0.         0.         0.         0.         0.        ]]\n"
     ]
    }
   ],
   "source": [
    "array_4x4 = np.random.rand(4, 4)\n",
    "print(\"Original 4x4 array:\")\n",
    "print(array_4x4)\n",
    "\n",
    "array_6x6 = np.pad(array_4x4, pad_width=1, mode='constant', constant_values=0)\n",
    "print(\"\\n6x6 array with border of zeros:\")\n",
    "print(array_6x6)\n"
   ]
  },
  {
   "cell_type": "markdown",
   "id": "8752e8fc-f44d-42ff-8a57-2d5e3d4bc3f7",
   "metadata": {},
   "source": [
    "4. Using NumPy, create an array of integers from 10 to 60 with a step of 5."
   ]
  },
  {
   "cell_type": "code",
   "execution_count": 37,
   "id": "5ca17f88-c040-4119-b207-3c171abd9bad",
   "metadata": {},
   "outputs": [
    {
     "name": "stdout",
     "output_type": "stream",
     "text": [
      "Array with integers from 10 to 60 with a step of 5:\n",
      "[10 15 20 25 30 35 40 45 50 55 60]\n"
     ]
    }
   ],
   "source": [
    "array = np.arange(10, 61, 5)\n",
    "\n",
    "print(\"Array with integers from 10 to 60 with a step of 5:\")\n",
    "print(array)\n"
   ]
  },
  {
   "cell_type": "markdown",
   "id": "17245c4f-6349-4787-88e8-201a592edbb2",
   "metadata": {},
   "source": [
    "5. Create a NumPy array of strings ['python', 'numpy', 'pandas']. Apply different case transformations"
   ]
  },
  {
   "cell_type": "code",
   "execution_count": 39,
   "id": "615ed446-3187-44ab-abe6-67da0092c9aa",
   "metadata": {},
   "outputs": [
    {
     "name": "stdout",
     "output_type": "stream",
     "text": [
      "Original array:\n",
      "['python' 'numpy' 'pandas']\n",
      "\n",
      "Uppercase array:\n",
      "['PYTHON' 'NUMPY' 'PANDAS']\n",
      "\n",
      "Lowercase array:\n",
      "['python' 'numpy' 'pandas']\n",
      "\n",
      "title array:\n",
      "['Python' 'Numpy' 'Pandas']\n",
      "\n",
      "Capitalized array:\n",
      "['Python' 'Numpy' 'Pandas']\n"
     ]
    }
   ],
   "source": [
    "array = np.array(['python', 'numpy', 'pandas'])\n",
    "print(\"Original array:\")\n",
    "print(array)\n",
    "\n",
    "upper_array = np.char.upper(array)\n",
    "print(\"\\nUppercase array:\")\n",
    "print(upper_array)\n",
    "\n",
    "lower_array = np.char.lower(array)\n",
    "print(\"\\nLowercase array:\")\n",
    "print(lower_array)\n",
    "\n",
    "title_array = np.char.title(array)\n",
    "print(\"\\ntitle array:\")\n",
    "print(title_array)\n",
    "\n",
    "capitalize_array = np.char.capitalize(array)\n",
    "print(\"\\nCapitalized array:\")\n",
    "print(capitalize_array)\n"
   ]
  },
  {
   "cell_type": "markdown",
   "id": "2826e388-417c-40a1-baa9-1220431b2ace",
   "metadata": {},
   "source": [
    "6. Generate a NumPy array of words. Insert a space between each character of every word in the array"
   ]
  },
  {
   "cell_type": "code",
   "execution_count": 41,
   "id": "89652bdc-dd26-42e0-bc69-fe24142dd1e7",
   "metadata": {},
   "outputs": [
    {
     "name": "stdout",
     "output_type": "stream",
     "text": [
      "Original array:\n",
      "['apple' 'ball ' 'cat']\n",
      "\n",
      "Array with spaces between characters:\n",
      "['a p p l e' 'b a l l  ' 'c a t']\n"
     ]
    }
   ],
   "source": [
    "words_array = np.array(['apple', 'ball ', 'cat'])\n",
    "print(\"Original array:\")\n",
    "print(words_array)\n",
    "\n",
    "spaced_array = np.char.join(' ', words_array)\n",
    "print(\"\\nArray with spaces between characters:\")\n",
    "print(spaced_array)\n"
   ]
  },
  {
   "cell_type": "markdown",
   "id": "5a6a9207-781a-46e7-bb7f-bdfc0819c1c4",
   "metadata": {},
   "source": [
    "7. Create two 2D NumPy arrays and perform element-wise addition, subtraction, multiplication, and division."
   ]
  },
  {
   "cell_type": "code",
   "execution_count": 43,
   "id": "9b84326e-aca7-493b-bce8-3b95043324b6",
   "metadata": {},
   "outputs": [
    {
     "name": "stdout",
     "output_type": "stream",
     "text": [
      "Array 1:\n",
      "[[1 2 3]\n",
      " [4 5 6]]\n",
      "\n",
      "Array 2:\n",
      "[[ 7  8  9]\n",
      " [10 11 12]]\n",
      "\n",
      " addition:\n",
      "[[ 8 10 12]\n",
      " [14 16 18]]\n",
      "\n",
      " subtraction:\n",
      "[[-6 -6 -6]\n",
      " [-6 -6 -6]]\n",
      "\n",
      " multiplication:\n",
      "[[ 7 16 27]\n",
      " [40 55 72]]\n",
      "\n",
      " division:\n",
      "[[0.14285714 0.25       0.33333333]\n",
      " [0.4        0.45454545 0.5       ]]\n"
     ]
    }
   ],
   "source": [
    "array1 = np.array([[1, 2, 3], [4, 5, 6]])\n",
    "array2 = np.array([[7, 8, 9], [10, 11, 12]])\n",
    "\n",
    "print(\"Array 1:\")\n",
    "print(array1)\n",
    "print(\"\\nArray 2:\")\n",
    "print(array2)\n",
    "\n",
    "addition = np.add(array1, array2)\n",
    "print(\"\\n addition:\")\n",
    "print(addition)\n",
    "\n",
    "subtraction = np.subtract(array1, array2)\n",
    "print(\"\\n subtraction:\")\n",
    "print(subtraction)\n",
    "\n",
    "multiplication = np.multiply(array1, array2)\n",
    "print(\"\\n multiplication:\")\n",
    "print(multiplication)\n",
    "\n",
    "division = np.divide(array1, array2)\n",
    "print(\"\\n division:\")\n",
    "print(division)\n"
   ]
  },
  {
   "cell_type": "markdown",
   "id": "b6988a17-03f3-43bd-abad-26f5f55f85b0",
   "metadata": {},
   "source": [
    "8. Use NumPy to create a 5x5 identity matrix, then extract its diagonal elements."
   ]
  },
  {
   "cell_type": "code",
   "execution_count": 45,
   "id": "a67c3c0f-a9db-4e7b-81b3-40db6919301c",
   "metadata": {},
   "outputs": [
    {
     "name": "stdout",
     "output_type": "stream",
     "text": [
      "5x5 Identity Matrix:\n",
      "[[1. 0. 0. 0. 0.]\n",
      " [0. 1. 0. 0. 0.]\n",
      " [0. 0. 1. 0. 0.]\n",
      " [0. 0. 0. 1. 0.]\n",
      " [0. 0. 0. 0. 1.]]\n",
      "\n",
      "Diagonal Elements:\n",
      "[1. 1. 1. 1. 1.]\n"
     ]
    }
   ],
   "source": [
    "identity_matrix = np.eye(5)\n",
    "print(\"5x5 Identity Matrix:\")\n",
    "print(identity_matrix)\n",
    "\n",
    "diagonal_elements = np.diag(identity_matrix)\n",
    "print(\"\\nDiagonal Elements:\")\n",
    "print(diagonal_elements)\n"
   ]
  },
  {
   "cell_type": "markdown",
   "id": "0f760512-77d6-4faf-9ff9-96c92ae1deda",
   "metadata": {},
   "source": [
    "9. Generate a NumPy array of 100 random integers between 0 and 1000. Find and display all prime numbers in\n",
    "this array."
   ]
  },
  {
   "cell_type": "code",
   "execution_count": 47,
   "id": "0af80f5f-4133-4e7f-9fa7-1495aa83ab12",
   "metadata": {},
   "outputs": [
    {
     "name": "stdout",
     "output_type": "stream",
     "text": [
      "Random array:\n",
      "[364 488 988 207 250 278 469 174 994 694 970 426 727 560 799  33 234 497\n",
      " 992 664 848 401 669 309 264 193 423 840 413 884 280 387 663 248 972 670\n",
      " 286 912 314 268 293 536 208 243 624 890 664 884 828 452  34 333 666 584\n",
      " 733 295 960  39 779  48 276 202 769 853 359 974 648 579 622 168 242 424\n",
      " 974 512 166 760 334 999 370 106 693 360 560 834 853 673 736 475 775 266\n",
      "  55 208 735 875  71 995 502 597 580 259]\n",
      "\n",
      "Prime numbers in the array:\n",
      "[727, 401, 193, 293, 733, 769, 853, 359, 853, 673, 71]\n"
     ]
    }
   ],
   "source": [
    "def is_prime(n):\n",
    "    if n <= 1:\n",
    "        return False\n",
    "    for i in range(2, int(np.sqrt(n)) + 1):\n",
    "        if n % i == 0:\n",
    "            return False\n",
    "    return True\n",
    "\n",
    "random_array = np.random.randint(0, 1001, size=100)\n",
    "print(\"Random array:\")\n",
    "print(random_array)\n",
    "\n",
    "prime_numbers = [num for num in random_array if is_prime(num)]\n",
    "print(\"\\nPrime numbers in the array:\")\n",
    "print(prime_numbers)\n"
   ]
  },
  {
   "cell_type": "markdown",
   "id": "ef5c514e-5cf7-48f2-8f1f-529d397ec6ed",
   "metadata": {},
   "source": [
    "10. Create a NumPy array representing daily temperatures for a month. Calculate and display the weekly\n",
    "averages."
   ]
  },
  {
   "cell_type": "code",
   "execution_count": 49,
   "id": "81aab82c-acf3-480b-8da4-5a8ae3a8658e",
   "metadata": {},
   "outputs": [
    {
     "name": "stdout",
     "output_type": "stream",
     "text": [
      "Daily temperatures for a month:\n",
      "[22.07669576 23.63265575 35.81847383 22.51429352 26.568323   21.01317128\n",
      " 36.32684361 27.30621452 38.63345696 33.3619863  25.56488134 31.34582014\n",
      " 34.71382437 30.51790797 34.79574137 25.43192944 28.18790015 30.1328607\n",
      " 24.91237079 25.51096    31.70455802 35.99336183 32.85793184 32.77379507\n",
      " 36.30064059 32.39774108 26.07737748 35.05094998 33.83388698 29.09563674]\n",
      "\n",
      "Weekly averages:\n",
      "[26.850065251107765, 31.634870230050318, 28.66804578075411, 33.06454255299226, 31.464761860503103]\n"
     ]
    }
   ],
   "source": [
    "daily_temperatures = np.random.uniform(20, 40, 30)\n",
    "print(\"Daily temperatures for a month:\")\n",
    "print(daily_temperatures)\n",
    "\n",
    "weekly_averages = [np.mean(daily_temperatures[i:i+7]) for i in range(0, len(daily_temperatures), 7)]\n",
    "print(\"\\nWeekly averages:\")\n",
    "print(weekly_averages)\n"
   ]
  },
  {
   "cell_type": "code",
   "execution_count": null,
   "id": "5592c7c4-d360-46e2-83b3-fc26fe3c9ce1",
   "metadata": {},
   "outputs": [],
   "source": []
  }
 ],
 "metadata": {
  "kernelspec": {
   "display_name": "Python 3 (ipykernel)",
   "language": "python",
   "name": "python3"
  },
  "language_info": {
   "codemirror_mode": {
    "name": "ipython",
    "version": 3
   },
   "file_extension": ".py",
   "mimetype": "text/x-python",
   "name": "python",
   "nbconvert_exporter": "python",
   "pygments_lexer": "ipython3",
   "version": "3.12.4"
  }
 },
 "nbformat": 4,
 "nbformat_minor": 5
}
