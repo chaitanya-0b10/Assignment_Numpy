{
 "cells": [
  {
   "cell_type": "markdown",
   "id": "9d6f1d7d-2a3e-4797-9024-b7ba09dfe6fa",
   "metadata": {},
   "source": [
    "1. Explain the purpose and advantages of NumPy in scientific computing and data analysis. How does it\n",
    "enhance Python's capabilities for numerical operations?"
   ]
  },
  {
   "cell_type": "code",
   "execution_count": 94,
   "id": "91e50066-33d6-46f3-b313-922ab0cb32bd",
   "metadata": {},
   "outputs": [
    {
     "data": {
      "text/plain": [
       "'\\nNumPy provides a wide range of mathematical functions, including linear algebra, statistical operations, and random number generation, which are not available in standard Python.\\nWith NumPy, can handle large datasets more efficiently, making it ideal for data analysis and machine learning applications.\\nNumPy arrays can be used as inputs and outputs for various other libraries, enhancing Python’s capabilities for numerical and scientific computing.\\n'"
      ]
     },
     "execution_count": 94,
     "metadata": {},
     "output_type": "execute_result"
    }
   ],
   "source": [
    "''' NumPy provides support for large, multi-dimensional arrays and matrices, \n",
    "along with a collection of mathematical functions to operate on these arrays efficiently.\n",
    "Many other scientific computing and data analysis libraries,\n",
    "such as Pandas, SciPy, and Scikit-learn,\n",
    "are built on top of NumPy. It serves as the backbone for these libraries'''\n",
    "\n",
    "'''Advantages:- \n",
    "NumPy is highly optimized for numerical operations. \n",
    "It uses pre-compiled C code, which makes array operations significantly faster than using Python lists.\n",
    "NumPy arrays consume less memory compared to Python lists. \n",
    "This is because NumPy arrays are stored in contiguous blocks of memory,\n",
    "which allows for efficient memory usage and faster access.\n",
    "NumPy allows for vectorized operations, which means can perform element-wise operations on arrays without the need for explicit loops. \n",
    "This leads to more readable and concise code.\n",
    "NumPy  integrates with other scientific computing libraries, making it easier to perform complex data analysis and machine learning tasks\n",
    "'''\n",
    "'''\n",
    "NumPy provides a wide range of mathematical functions, including linear algebra, statistical operations, and random number generation, which are not available in standard Python.\n",
    "With NumPy, can handle large datasets more efficiently, making it ideal for data analysis and machine learning applications.\n",
    "NumPy arrays can be used as inputs and outputs for various other libraries, enhancing Python’s capabilities for numerical and scientific computing.\n",
    "'''"
   ]
  },
  {
   "cell_type": "markdown",
   "id": "d7f7db91-f9cf-4bfe-b2c0-7eeb88a4739a",
   "metadata": {},
   "source": [
    "2. Compare and contrast np.mean() and np.average() functions in NumPy. When would you use one over the\n",
    "other?"
   ]
  },
  {
   "cell_type": "code",
   "execution_count": 97,
   "id": "90f8c608-d299-46d6-bb8e-d0603adb9872",
   "metadata": {},
   "outputs": [
    {
     "name": "stdout",
     "output_type": "stream",
     "text": [
      "Mean: 3.0\n",
      "Average: 3.0\n",
      "Weighted Average: 3.6666666666666665\n"
     ]
    },
    {
     "data": {
      "text/plain": [
       "' np.mean for simple avarage or statistics calculation mean.\\n    np.average()  When we need to calculate a weighted average.'"
      ]
     },
     "execution_count": 97,
     "metadata": {},
     "output_type": "execute_result"
    }
   ],
   "source": [
    "''' np.mean() \n",
    "Computes the arithmetic mean of the array elements.\n",
    "Not support Optional array of weights.\n",
    "it is straightforward and used when you only need the simple mean.\n",
    "'''\n",
    "\n",
    "''' np.average() \n",
    "supports weights, allowing to compute a weighted average.\n",
    "it is more versatile and can be used for weighted averages,\n",
    "providing additional control with the weights parameter.\n",
    "'''\n",
    "\n",
    "import numpy as np\n",
    "\n",
    "arr = np.array([1, 2, 3, 4, 5])\n",
    "\n",
    "mean_value = np.mean(arr)\n",
    "print(\"Mean:\", mean_value)  \n",
    "\n",
    "average_value = np.average(arr)\n",
    "print(\"Average:\", average_value) \n",
    "\n",
    "weights = np.array([1, 2, 3, 4, 5])\n",
    "weighted_average = np.average(arr, weights=weights)\n",
    "print(\"Weighted Average:\", weighted_average)  \n",
    "\n",
    "\"\"\" np.mean for simple avarage or statistics calculation mean.\n",
    "    np.average()  When we need to calculate a weighted average.\"\"\""
   ]
  },
  {
   "cell_type": "markdown",
   "id": "0fc5cbfe-7fbe-4bcb-a8b7-feb9b994a4a3",
   "metadata": {},
   "source": [
    "3. Describe the methods for reversing a NumPy array along different axes. Provide examples for 1D and 2D\r\n",
    "arrays."
   ]
  },
  {
   "cell_type": "code",
   "execution_count": 100,
   "id": "bd7a3f6d-cab0-4b1a-a5ec-42d9daac8790",
   "metadata": {},
   "outputs": [
    {
     "data": {
      "text/plain": [
       "'\\narray can be reverced:-\\nby slicing \\nby np.flip()\\nby np.flipud() and np.fliplr() for 2D arrays\\n'"
      ]
     },
     "execution_count": 100,
     "metadata": {},
     "output_type": "execute_result"
    }
   ],
   "source": [
    "\"\"\"\n",
    "array can be reverced:-\n",
    "by slicing \n",
    "by np.flip()\n",
    "by np.flipud() and np.fliplr() for 2D arrays\n",
    "\"\"\"\n"
   ]
  },
  {
   "cell_type": "code",
   "execution_count": 102,
   "id": "cda5e043-1b6e-467c-be16-6e1e035fb76e",
   "metadata": {},
   "outputs": [
    {
     "name": "stdout",
     "output_type": "stream",
     "text": [
      "Original array: [1 2 3 4 5]\n",
      "Reversed array by slicing : [5 4 3 2 1]\n",
      "Reversed array by flip(): [5 4 3 2 1]\n"
     ]
    }
   ],
   "source": [
    "''' 1D array'''\n",
    "import numpy as np\n",
    "\n",
    "arr = np.array([1, 2, 3, 4, 5])\n",
    "reversed_arr = arr[::-1]\n",
    "print(\"Original array:\", arr)  \n",
    "print(\"Reversed array by slicing :\", reversed_arr)  \n",
    "\n",
    "r_arr = np.flip(arr)  \n",
    "print(\"Reversed array by flip():\", r_arr) \n"
   ]
  },
  {
   "cell_type": "code",
   "execution_count": 104,
   "id": "92257260-1f8a-4141-92ab-1946b01b5a48",
   "metadata": {},
   "outputs": [
    {
     "name": "stdout",
     "output_type": "stream",
     "text": [
      "Original array:\n",
      " [[1 2 3]\n",
      " [4 5 6]\n",
      " [7 8 9]]\n",
      "Reversed rows array by slicing :\n",
      " [[7 8 9]\n",
      " [4 5 6]\n",
      " [1 2 3]]\n",
      "Reversed columns array by slicing :\n",
      " [[3 2 1]\n",
      " [6 5 4]\n",
      " [9 8 7]]\n",
      "Reversed along axis 0 array by flip():\n",
      " [[7 8 9]\n",
      " [4 5 6]\n",
      " [1 2 3]]\n",
      "Reversed along axis 1 array by flip():\n",
      " [[7 8 9]\n",
      " [4 5 6]\n",
      " [1 2 3]]\n",
      "Flipped up-down array:\n",
      " [[7 8 9]\n",
      " [4 5 6]\n",
      " [1 2 3]]\n",
      "Flipped left-right array:\n",
      " [[3 2 1]\n",
      " [6 5 4]\n",
      " [9 8 7]]\n"
     ]
    }
   ],
   "source": [
    "''' 2D array '''\n",
    "import numpy as np\n",
    "\n",
    "arr = np.array([[1, 2, 3], [4, 5, 6], [7, 8, 9]])\n",
    "reversed_rows = arr[::-1, :]\n",
    "print(\"Original array:\\n\", arr)\n",
    "print(\"Reversed rows array by slicing :\\n\", reversed_rows)\n",
    "reversed_columns = arr[:, ::-1]\n",
    "print(\"Reversed columns array by slicing :\\n\", reversed_columns)\n",
    "\n",
    "reversed_arrr = np.flip(arr, axis=0)\n",
    "print(\"Reversed along axis 0 array by flip():\\n\", reversed_arrr)\n",
    "reversed_arr = np.flip(arr, axis=1)\n",
    "print(\"Reversed along axis 1 array by flip():\\n\", reversed_arrr)\n",
    "\n",
    "reversed_arr = np.flipud(arr)\n",
    "print(\"Flipped up-down array:\\n\", reversed_arr)\n",
    "reversed_arr = np.fliplr(arr)\n",
    "print(\"Flipped left-right array:\\n\", reversed_arr)"
   ]
  },
  {
   "cell_type": "markdown",
   "id": "9e7c3a83-1faf-4268-b0a3-4c4d099fd45e",
   "metadata": {},
   "source": [
    "4. How can you determine the data type of elements in a NumPy array? Discuss the importance of data types\r\n",
    "in memory management and performance."
   ]
  },
  {
   "cell_type": "code",
   "execution_count": 107,
   "id": "ea159a0a-f773-4aa1-b0d6-587f87ec4b27",
   "metadata": {},
   "outputs": [
    {
     "name": "stdout",
     "output_type": "stream",
     "text": [
      "float32\n",
      "float64\n",
      "['1' '2' '3' '4'] <U1\n",
      "[1 2 3 4] int32\n"
     ]
    },
    {
     "data": {
      "text/plain": [
       "'Performance Optimization:-\\nOperations on smaller data types are generally faster because they require less memory bandwidth \\nand can be processed more quickly by the CPU.'"
      ]
     },
     "execution_count": 107,
     "metadata": {},
     "output_type": "execute_result"
    }
   ],
   "source": [
    "import numpy as np\n",
    "\n",
    "arr_A = np.array([1, 2, 3, 4, 5], dtype='float32')\n",
    "print(arr_A.dtype)\n",
    "\n",
    "arr_B = np.array([1, 2, 3, 4, 5], dtype='float64')\n",
    "print(arr_B.dtype)\n",
    "\n",
    "arr_C = np.array(['1','2','3','4'])\n",
    "print(arr_C, arr_C.dtype)\n",
    "\n",
    "arr_C = np.array(['1','2','3','4'], dtype='int32' )\n",
    "print(arr_C, arr_C.dtype)\n",
    "\n",
    "'''Memory Management:-\n",
    "Different data types require different amounts of memory.\n",
    "For example, an int32 type uses 4 bytes, while an int64 type uses 8 bytes. \n",
    "Choosing the appropriate data type can save memory.'''\n",
    "\n",
    "'''Performance Optimization:-\n",
    "Operations on smaller data types are generally faster because they require less memory bandwidth \n",
    "and can be processed more quickly by the CPU.'''"
   ]
  },
  {
   "cell_type": "markdown",
   "id": "4b059570-106d-42cb-9cba-5983be60115a",
   "metadata": {},
   "source": [
    "5. Define ndarrays in NumPy and explain their key features. How do they differ from standard Python lists?"
   ]
  },
  {
   "cell_type": "code",
   "execution_count": 110,
   "id": "0721b564-57fd-4c48-8f2f-0101f28cd7c7",
   "metadata": {},
   "outputs": [
    {
     "name": "stdout",
     "output_type": "stream",
     "text": [
      "ndarray:\n",
      " [[1 2 3]\n",
      " [4 5 6]]\n",
      "Data type: int32\n",
      "Shape: (2, 3)\n",
      "--------------------------------------------------------------\n",
      "list items: ['a', 'b', 1, 2, 3]\n",
      "Python List:\n",
      " [[1, 2, 3], [4, 5, 6]]\n"
     ]
    }
   ],
   "source": [
    "\"\"\"An ndarray (N-dimensional array) is a core data structure in NumPy, \n",
    "designed for efficient numerical computations. \n",
    "It is a multi-dimensional, homogeneous array of fixed-size items, \n",
    "meaning all elements in the array must be of the same data type\"\"\"\n",
    "\n",
    "\"\"\"key features:-\n",
    "Provides a wide range of mathematical functions and operations.\n",
    "Size is fixed upon creation.\n",
    "Optimized for numerical operations, supporting vectorized operations and broadcasting.\n",
    "Stored in contiguous memory blocks, leading to better memory efficiency.\n",
    "All elements must be of the same data type.\"\"\"\n",
    "\n",
    "\"\"\" differ:-\n",
    "List Can contain elements of different data types and multiple value(no fixed size). ndarry can't cantain\n",
    "List Stored as arrays of pointers to objects, which can be less memory-efficient.\n",
    "List Not optimized for numerical computations; operations often require explicit loops, but ndarray more efficient for it\n",
    "\"\"\"\n",
    "\"\"\"example\"\"\"\n",
    "import numpy as np\n",
    "#ndarray-------\n",
    "arr = np.array([[1, 2, 3], [4, 5, 6]])\n",
    "print(\"ndarray:\\n\", arr)\n",
    "print(\"Data type:\", arr.dtype)\n",
    "print(\"Shape:\", arr.shape)\n",
    "\n",
    "print(\"--------------------------------------------------------------\")\n",
    "#list------\n",
    "lis= ['a','b',1,2,3]\n",
    "print(\"list items:\", lis)\n",
    "list_2d = [[1, 2, 3], [4, 5, 6]]\n",
    "print(\"Python List:\\n\", list_2d)\n"
   ]
  },
  {
   "cell_type": "markdown",
   "id": "64cc2cd9-a1e7-4dcc-b348-c5880e2735a8",
   "metadata": {},
   "source": [
    "6. Analyze the performance benefits of NumPy arrays over Python lists for large-scale numerical operations."
   ]
  },
  {
   "cell_type": "code",
   "execution_count": 113,
   "id": "e936d1a3-1cbb-4565-bf95-3b120ac441e9",
   "metadata": {},
   "outputs": [
    {
     "name": "stdout",
     "output_type": "stream",
     "text": [
      "Time taken with Python list: 0.03154349327087402\n"
     ]
    }
   ],
   "source": [
    "\"\"\" list performance by using time module \"\"\"\n",
    "import time\n",
    "\n",
    "large_list = list(range(1000000))\n",
    "\n",
    "start_time = time.time()\n",
    "\n",
    "result_list = [x + 1 for x in large_list]\n",
    "\n",
    "end_time = time.time()\n",
    "\n",
    "print(\"Time taken with Python list:\", end_time - start_time)\n"
   ]
  },
  {
   "cell_type": "code",
   "execution_count": 115,
   "id": "8e341531-fcac-4303-92ab-a7cbb605fc1f",
   "metadata": {},
   "outputs": [
    {
     "name": "stdout",
     "output_type": "stream",
     "text": [
      "Time taken with NumPy array: 0.0009987354278564453\n"
     ]
    }
   ],
   "source": [
    "\"\"\" Numpy arrays performance by using time module  \"\"\"\n",
    "import numpy as np\n",
    "import time\n",
    "\n",
    "large_array = np.arange(1000000)\n",
    "\n",
    "start_time = time.time()\n",
    "result_array = large_array + 1\n",
    "end_time = time.time()\n",
    "\n",
    "print(\"Time taken with NumPy array:\", end_time - start_time)\n"
   ]
  },
  {
   "cell_type": "markdown",
   "id": "4decbb17-5735-485e-b686-ff28672a4af9",
   "metadata": {},
   "source": [
    "7. Compare vstack() and hstack() functions in NumPy. Provide examples demonstrating their usage and\r\n",
    "output."
   ]
  },
  {
   "cell_type": "code",
   "execution_count": 118,
   "id": "2ac7ccf8-6cc5-40e5-81d9-1e23c79222f5",
   "metadata": {},
   "outputs": [
    {
     "name": "stdout",
     "output_type": "stream",
     "text": [
      "vstack result:\n",
      " [[1 2]\n",
      " [3 4]\n",
      " [5 6]\n",
      " [7 8]]\n",
      "hstack result:\n",
      " [1 2 3 4 5 6]\n"
     ]
    }
   ],
   "source": [
    "''' vstack:- \n",
    "Stacks arrays vertically (row-wise).\n",
    "Arrays must have the same shape along all but the first axis.\n",
    "use -  when need to stack arrays vertically, adding rows. '''\n",
    "import numpy as np\n",
    "\n",
    "a = np.array([[1, 2], [3, 4]])\n",
    "b = np.array([[5, 6], [7, 8]])\n",
    "\n",
    "result = np.vstack((a, b))\n",
    "print(\"vstack result:\\n\", result)\n",
    "\n",
    "\n",
    "''' hstack:- \n",
    "Stacks arrays horizontally (column-wise).\n",
    "use - when need to stack arrays horizontally, adding columns.\n",
    "Arrays must have the same shape along all but the second axis.'''\n",
    "\n",
    "a = np.array([1, 2, 3])\n",
    "b = np.array([4, 5, 6])\n",
    "\n",
    "# Using hstack\n",
    "result = np.hstack((a, b))\n",
    "print(\"hstack result:\\n\", result)\n"
   ]
  },
  {
   "cell_type": "markdown",
   "id": "20bb715f-2b58-4aaa-9106-2dc4b1cd6ee1",
   "metadata": {},
   "source": [
    "8. Explain the differences between fliplr() and flipud() methods in NumPy, including their effects on various\n",
    "array dimensions."
   ]
  },
  {
   "cell_type": "code",
   "execution_count": 121,
   "id": "c7cde3a5-6ebc-4484-9bfd-7cf73700a8f3",
   "metadata": {},
   "outputs": [
    {
     "data": {
      "text/plain": [
       "'flipud():-\\nFlips the array up to down (vertically)\\nWorks with 1D and higher-dimensional arrays\\nFlips along the first axis (rows)\\n'"
      ]
     },
     "execution_count": 121,
     "metadata": {},
     "output_type": "execute_result"
    }
   ],
   "source": [
    "'''fliplr():-\n",
    "Requires at least a 2D array\n",
    "Flips the array left to right (horizontally)\n",
    "Flips along the second axis\n",
    "'''\n",
    "\n",
    "'''flipud():-\n",
    "Flips the array up to down (vertically)\n",
    "Works with 1D and higher-dimensional arrays\n",
    "Flips along the first axis (rows)\n",
    "'''"
   ]
  },
  {
   "cell_type": "code",
   "execution_count": 123,
   "id": "52a44055-11f7-4d21-8901-0b75ee0ceb8a",
   "metadata": {},
   "outputs": [
    {
     "name": "stdout",
     "output_type": "stream",
     "text": [
      "1D--------------\n",
      "Original array: [1 2 3]\n",
      "Flipped up-down array: [3 2 1]\n",
      "2D--------------\n",
      "Original array:\n",
      " [[1 2 3]\n",
      " [4 5 6]\n",
      " [7 8 9]]\n",
      "Flipped left-right array:\n",
      " [[3 2 1]\n",
      " [6 5 4]\n",
      " [9 8 7]]\n",
      "Flipped up-down array:\n",
      " [[7 8 9]\n",
      " [4 5 6]\n",
      " [1 2 3]]\n",
      "3D--------------\n",
      "Original array:\n",
      " [[[1 2]\n",
      "  [3 4]]\n",
      "\n",
      " [[5 6]\n",
      "  [7 8]]]\n",
      "Flipped left-right array:\n",
      " [[[3 4]\n",
      "  [1 2]]\n",
      "\n",
      " [[7 8]\n",
      "  [5 6]]]\n",
      "Flipped up-down array:\n",
      " [[[5 6]\n",
      "  [7 8]]\n",
      "\n",
      " [[1 2]\n",
      "  [3 4]]]\n"
     ]
    }
   ],
   "source": [
    "import numpy as np\n",
    "# 1D----------\n",
    "print(\"1D--------------\")\n",
    "arr = np.array([1, 2, 3])\n",
    "flipped_ud = np.flipud(arr)\n",
    "print(\"Original array:\", arr)\n",
    "print(\"Flipped up-down array:\", flipped_ud)\n",
    "\n",
    "#2d------------\n",
    "print(\"2D--------------\")\n",
    "arr = np.array([[1, 2, 3], [4, 5, 6], [7, 8, 9]])\n",
    "flipped_lr = np.fliplr(arr)\n",
    "print(\"Original array:\\n\", arr)\n",
    "print(\"Flipped left-right array:\\n\", flipped_lr)\n",
    "flipped_ud = np.flipud(arr)\n",
    "print(\"Flipped up-down array:\\n\", flipped_ud)\n",
    "\n",
    "#3D---------------\n",
    "print(\"3D--------------\")\n",
    "arr = np.array([[[1, 2], [3, 4]], [[5, 6], [7, 8]]])\n",
    "flipped_lr = np.fliplr(arr)\n",
    "flipped_ud = np.flipud(arr)\n",
    "print(\"Original array:\\n\", arr)\n",
    "print(\"Flipped left-right array:\\n\", flipped_lr)\n",
    "print(\"Flipped up-down array:\\n\", flipped_ud)\n"
   ]
  },
  {
   "cell_type": "markdown",
   "id": "be87d2bb-e98b-4606-9904-5cbfcb9ad093",
   "metadata": {},
   "source": [
    "9. Discuss the functionality of the array_split() method in NumPy. How does it handle uneven splits?"
   ]
  },
  {
   "cell_type": "code",
   "execution_count": 126,
   "id": "b0acf392-bb11-463c-9eda-90d07874bf47",
   "metadata": {},
   "outputs": [
    {
     "name": "stdout",
     "output_type": "stream",
     "text": [
      "[array([0, 1, 2]), array([3, 4]), array([5, 6]), array([7, 8])]\n"
     ]
    }
   ],
   "source": [
    "'''The array_split() method in NumPy is used to split an array into multiple sub-arrays.\n",
    "It is similar to the split() method but with added flexibility for handling uneven splits.\n",
    "Unlike split(), which requires the array to be divided into equal parts, array_split() allows for uneven splits.\n",
    "This is useful when the array cannot be evenly divided by the specified number of splits\n",
    "'''\n",
    "'''\n",
    "When the array length is not perfectly divisible by the number of splits,\n",
    "array_split() handles the uneven division by creating sub-arrays of different sizes:\n",
    "'''\n",
    "import numpy as np\n",
    "\n",
    "x = np.arange(9)\n",
    "result = np.array_split(x, 4)\n",
    "print(result)\n"
   ]
  },
  {
   "cell_type": "markdown",
   "id": "0b4bff1c-eb3a-47f4-b9e9-c9661149df2c",
   "metadata": {},
   "source": [
    "10. Explain the concepts of vectorization and broadcasting in NumPy. How do they contribute to efficient array\n",
    "operations?"
   ]
  },
  {
   "cell_type": "code",
   "execution_count": 129,
   "id": "fa458f8a-7cb2-4074-9299-3b6124c772a9",
   "metadata": {},
   "outputs": [
    {
     "name": "stdout",
     "output_type": "stream",
     "text": [
      "[ 6  8 10 12]\n"
     ]
    }
   ],
   "source": [
    "'''\n",
    "Vectorization refers to the process of performing operations on entire arrays rather than individual elements. \n",
    "This eliminates the need for explicit loops in Python, \n",
    "allowing operations to be executed in optimized C code, which is much faster\n",
    "Enhances performance and code simplicity by eliminating explicit loops.\n",
    "'''\n",
    "\n",
    "import numpy as np\n",
    "\n",
    "a = np.array([1, 2, 3, 4])\n",
    "b = np.array([5, 6, 7, 8])\n",
    "\n",
    "result_vectorized = a + b\n",
    "         \n",
    "print(result_vectorized)  \n",
    "\n"
   ]
  },
  {
   "cell_type": "code",
   "execution_count": 131,
   "id": "a9d9d28c-1b62-4c10-845a-55b4beee715c",
   "metadata": {},
   "outputs": [
    {
     "name": "stdout",
     "output_type": "stream",
     "text": [
      "[[11 22 33]\n",
      " [14 25 36]]\n"
     ]
    }
   ],
   "source": [
    "'''Broadcasting describes how NumPy handles arrays of different shapes during arithmetic operations.\n",
    "It allows smaller arrays to be automatically expanded to match the shape of larger arrays, \n",
    "enabling element-wise operations without the need for explicit looping'''\n",
    "\n",
    "import numpy as np\n",
    "\n",
    "matrix = np.array([[1, 2, 3],\n",
    "                   [4, 5, 6]])\n",
    "vector = np.array([10, 20, 30])\n",
    "\n",
    "result = matrix + vector\n",
    "\n",
    "print(result)\n"
   ]
  },
  {
   "cell_type": "code",
   "execution_count": 133,
   "id": "31549d34-fd61-4fda-9580-06a34ba172ec",
   "metadata": {},
   "outputs": [
    {
     "data": {
      "text/plain": [
       "'\\nVectorization improves performance and readability by leveraging efficient,\\nlow-level implementations for array operations.\\n\\nBroadcasting enables element-wise operations on arrays of different shapes \\nby expanding dimensions as needed, making code more flexible and memory-efficient.\\n'"
      ]
     },
     "execution_count": 133,
     "metadata": {},
     "output_type": "execute_result"
    }
   ],
   "source": [
    "\"\"\"\n",
    "Vectorization improves performance and readability by leveraging efficient,\n",
    "low-level implementations for array operations.\n",
    "\n",
    "Broadcasting enables element-wise operations on arrays of different shapes \n",
    "by expanding dimensions as needed, making code more flexible and memory-efficient.\n",
    "\"\"\""
   ]
  },
  {
   "cell_type": "code",
   "execution_count": null,
   "id": "941fb8ab-d3a3-4367-8fdb-fd1d3c90d289",
   "metadata": {},
   "outputs": [],
   "source": []
  }
 ],
 "metadata": {
  "kernelspec": {
   "display_name": "Python 3 (ipykernel)",
   "language": "python",
   "name": "python3"
  },
  "language_info": {
   "codemirror_mode": {
    "name": "ipython",
    "version": 3
   },
   "file_extension": ".py",
   "mimetype": "text/x-python",
   "name": "python",
   "nbconvert_exporter": "python",
   "pygments_lexer": "ipython3",
   "version": "3.12.4"
  }
 },
 "nbformat": 4,
 "nbformat_minor": 5
}
